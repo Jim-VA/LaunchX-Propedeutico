{
 "cells": [
  {
   "cell_type": "markdown",
   "metadata": {},
   "source": [
    "# **Kata 03**\n",
    "## Escribir declaraciones if, else y elif\n"
   ]
  },
  {
   "cell_type": "code",
   "execution_count": 4,
   "metadata": {},
   "outputs": [
    {
     "name": "stdout",
     "output_type": "stream",
     "text": [
      "ADVERTENCIA: ¡Asteroide con velocidad superior a 25 km/s!\n"
     ]
    }
   ],
   "source": [
    "asteroid_vel1 = 49 #km/s\n",
    "\n",
    "if asteroid_vel1 > 25:\n",
    "    print(\"ADVERTENCIA: ¡Asteroide con velocidad superior a 25 km/s!\")\n",
    "else:\n",
    "    print(\"Asteroide con velocidad permitida. :)\")"
   ]
  },
  {
   "cell_type": "code",
   "execution_count": 13,
   "metadata": {},
   "outputs": [
    {
     "name": "stdout",
     "output_type": "stream",
     "text": [
      "Cielo despejado.\n"
     ]
    }
   ],
   "source": [
    "asteroid_vel2 = 19 #km/s\n",
    "if asteroid_vel2 == 20:\n",
    "    print (\"Busca un asteroide en el cielo. ¡Hay uno que se aproxima a la Tierra ahora con una velocidad de: \"+str(asteroid_vel2) + \" km/s!\")\n",
    "elif asteroid_vel2 > 20:\n",
    "    print (\"Busca un asteroide en el cielo. ¡Hay uno que se aproxima a la Tierra ahora con una velocidad de: \"+str(asteroid_vel2) + \" km/s!\")\n",
    "else:\n",
    "    print (\"Cielo despejado.\")"
   ]
  },
  {
   "cell_type": "markdown",
   "metadata": {},
   "source": [
    "## Uso de operadores and y or"
   ]
  },
  {
   "cell_type": "code",
   "execution_count": 5,
   "metadata": {},
   "outputs": [
    {
     "name": "stdout",
     "output_type": "stream",
     "text": [
      "ADVERTENCIA: Se aproxima un asteroide de dimensiones grandes, potencialmente dañino.\n"
     ]
    }
   ],
   "source": [
    "velocityAsteroid = int(input(\"Introduzca la velocidad del asteroide (en km/s): \"))\n",
    "sizeAsteroid = int(input(\"Introduzca el tamaño del asteroide (en metros): \"))\n",
    "\n",
    "if velocityAsteroid > 25 and sizeAsteroid > 25:\n",
    "    print (\"PELIGRO INMINENTE\")\n",
    "\n",
    "elif velocityAsteroid >= 20:\n",
    "    print(\"Busca un asteroide en el cielo. ¡Hay uno que se aproxima a la Tierra ahora! \")\n",
    "    if velocityAsteroid > 25 or sizeAsteroid > 25:\n",
    "        print(\"ADVERTENCIA: Asteroide peligroso.\")\n",
    "    else:\n",
    "        print(\"Disfruta la vista.\")\n",
    "    \n",
    "elif sizeAsteroid > 25:\n",
    "    print(\"ADVERTENCIA: Se aproxima un asteroide de dimensiones grandes, potencialmente dañino.\")\n",
    "    \n",
    "else:\n",
    "    print(\"Todo en orden.\")"
   ]
  }
 ],
 "metadata": {
  "interpreter": {
   "hash": "d5b2c5c3caebf6d08edd6539b3b3142fd8c81be0f081fd188e8c4b7e25935de7"
  },
  "kernelspec": {
   "display_name": "Python 3.10.0 64-bit",
   "language": "python",
   "name": "python3"
  },
  "language_info": {
   "codemirror_mode": {
    "name": "ipython",
    "version": 3
   },
   "file_extension": ".py",
   "mimetype": "text/x-python",
   "name": "python",
   "nbconvert_exporter": "python",
   "pygments_lexer": "ipython3",
   "version": "3.8.8"
  },
  "orig_nbformat": 4
 },
 "nbformat": 4,
 "nbformat_minor": 2
}
