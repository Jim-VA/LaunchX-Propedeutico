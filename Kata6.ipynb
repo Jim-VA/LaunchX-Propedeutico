{
 "cells": [
  {
   "cell_type": "markdown",
   "metadata": {},
   "source": [
    "# **Kata 6**\n"
   ]
  },
  {
   "cell_type": "code",
   "execution_count": 18,
   "metadata": {},
   "outputs": [
    {
     "name": "stdout",
     "output_type": "stream",
     "text": [
      "Existen 8 planetas.\n",
      "Hay quienes dicen que hay 9 planetas.\n",
      "Pluto  llega a ser considerado como el último planeta.\n"
     ]
    }
   ],
   "source": [
    "# Ejercicio 1: Crear y usar listas de Python\n",
    "planets = ['Mercury','Venus','Earth','Mars','Jupyter','Uranus','Saturn','Neptune']\n",
    "print(\"Existen\", len(planets), \"planetas.\")\n",
    "\n",
    "planets.append('Pluto')\n",
    "print(\"Hay quienes dicen que hay\", len(planets), \"planetas.\")\n",
    "print(planets[-1],\" llega a ser considerado como el último planeta.\")"
   ]
  },
  {
   "cell_type": "code",
   "execution_count": 16,
   "metadata": {},
   "outputs": [
    {
     "name": "stdout",
     "output_type": "stream",
     "text": [
      "Los planetas más cercanos al sol que Urano son:  ['Mercurio', 'Venus', 'Tierra', 'Marte', 'Jupiter', 'Saturno']\n",
      "Los planetas más alejados del sol que Urano son:  ['Neptuno']\n"
     ]
    }
   ],
   "source": [
    "#Ejercicio 2: Trabajando con datos de una lista\n",
    "\n",
    "planets = ['Mercurio','Venus','Tierra','Marte','Jupiter','Saturno','Urano','Neptuno']\n",
    "query = input(\"Introduce el nombre de un planeta (escribe con mayúscula la primera letra) : \")\n",
    "q_index= planets.index(query)\n",
    "\n",
    "print(\"Los planetas más cercanos al sol que\", query, \"son: \", planets[0:q_index])\n",
    "print(\"Los planetas más alejados del sol que\", query, \"son: \", planets[q_index+1:])"
   ]
  }
 ],
 "metadata": {
  "interpreter": {
   "hash": "aee8b7b246df8f9039afb4144a1f6fd8d2ca17a180786b69acc140d282b71a49"
  },
  "kernelspec": {
   "display_name": "Python 3.10.2 64-bit",
   "language": "python",
   "name": "python3"
  },
  "language_info": {
   "codemirror_mode": {
    "name": "ipython",
    "version": 3
   },
   "file_extension": ".py",
   "mimetype": "text/x-python",
   "name": "python",
   "nbconvert_exporter": "python",
   "pygments_lexer": "ipython3",
   "version": "3.10.2"
  },
  "orig_nbformat": 4
 },
 "nbformat": 4,
 "nbformat_minor": 2
}
