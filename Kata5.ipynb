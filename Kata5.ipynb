{
 "cells": [
  {
   "cell_type": "markdown",
   "metadata": {},
   "source": [
    "# **Kata 5**"
   ]
  },
  {
   "cell_type": "code",
   "execution_count": 1,
   "metadata": {},
   "outputs": [
    {
     "name": "stdout",
     "output_type": "stream",
     "text": [
      "La distancia entre los planetas es de 628949330km. Esto equivale a 390577533.93 millas.\n"
     ]
    }
   ],
   "source": [
    "#ejercicio 1\n",
    "\n",
    "earth = 149597870 #km\n",
    "jupyter = 778547200 # km\n",
    "\n",
    "distance_planets_km = jupyter - earth \n",
    "distance_planets_m = distance_planets_km * 0.621 # resultado en millas\n",
    "\n",
    "print(\"La distancia entre los planetas es de \" + str(distance_planets_km) + \"km. Esto equivale a \" + str(distance_planets_m) + \" millas.\")"
   ]
  },
  {
   "cell_type": "code",
   "execution_count": 2,
   "metadata": {},
   "outputs": [
    {
     "name": "stdout",
     "output_type": "stream",
     "text": [
      "La distancia entre los planetas es de 26km. Esto equivale a 16.146 millas.\n"
     ]
    }
   ],
   "source": [
    "#ejercicio 2\n",
    "planet1 = int(input(\"Distancia al sol del planeta 1 (en km):  \"))\n",
    "planet2 = int(input(\"Distancia al sol del planeta 2 (en km):  \"))\n",
    "\n",
    "distance_planets = abs(planet2-planet1)\n",
    "distance_miles = distance_planets*0.621\n",
    "\n",
    "print(\"La distancia entre los planetas es de \" + str(distance_planets) + \"km. Esto equivale a \" + str(distance_miles) + \" millas.\")"
   ]
  }
 ],
 "metadata": {
  "interpreter": {
   "hash": "aee8b7b246df8f9039afb4144a1f6fd8d2ca17a180786b69acc140d282b71a49"
  },
  "kernelspec": {
   "display_name": "Python 3.10.2 64-bit",
   "language": "python",
   "name": "python3"
  },
  "language_info": {
   "codemirror_mode": {
    "name": "ipython",
    "version": 3
   },
   "file_extension": ".py",
   "mimetype": "text/x-python",
   "name": "python",
   "nbconvert_exporter": "python",
   "pygments_lexer": "ipython3",
   "version": "3.10.2"
  },
  "orig_nbformat": 4
 },
 "nbformat": 4,
 "nbformat_minor": 2
}
