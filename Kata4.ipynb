{
 "cells": [
  {
   "cell_type": "markdown",
   "metadata": {},
   "source": [
    "# **Kata 04**\n",
    "## Ejercicio 1: Transformar cadenas"
   ]
  },
  {
   "cell_type": "code",
   "execution_count": 2,
   "metadata": {},
   "outputs": [],
   "source": [
    "text = \"\"\"Interesting facts about the Moon. The Moon is Earth's only satellite. There are several interesting facts about the Moon and how it affects life here on Earth. \n",
    "On average, the Moon moves 4cm away from the Earth every year. This yearly drift is not significant enough to cause immediate effects on Earth. The highest daylight temperature of the Moon is 127 C.\"\"\""
   ]
  },
  {
   "cell_type": "code",
   "execution_count": 20,
   "metadata": {},
   "outputs": [],
   "source": [
    "#Dividir texto por oraciones\n",
    "oraciones = text.split(\".\")\n",
    "keywords = [\"average\",\"temperature\",\"distance\"]"
   ]
  },
  {
   "cell_type": "code",
   "execution_count": 26,
   "metadata": {},
   "outputs": [
    {
     "name": "stdout",
     "output_type": "stream",
     "text": [
      " \n",
      "On average, the Moon moves 4cm away from the Earth every year\n",
      " The highest daylight temperature of the Moon is 127 Celsius\n"
     ]
    }
   ],
   "source": [
    "#Ciclo for para imprimir oraciones con keywords, cambio de C a Celsius\n",
    "for oracion in oraciones:\n",
    "    for keyword in keywords:\n",
    "        if keyword in oracion:\n",
    "            print(oracion.replace(\"C\",\"Celsius\"))"
   ]
  },
  {
   "cell_type": "markdown",
   "metadata": {},
   "source": [
    "## Ejercicio 2: Formateando Cadenas"
   ]
  },
  {
   "cell_type": "code",
   "execution_count": 53,
   "metadata": {},
   "outputs": [
    {
     "name": "stdout",
     "output_type": "stream",
     "text": [
      " Gravity Facts About Moon\n",
      "---------------------\n",
      "Planet Name: Earth\n",
      "Gravity on Moon: 1.6199999999999999 m/s2\n",
      "\n"
     ]
    }
   ],
   "source": [
    "#Datos\n",
    "name = \"Moon\"\n",
    "gravity = 0.00162 #kms\n",
    "planet = \"Earth\"\n",
    "\n",
    "titulo = \"Gravity facts about %s\" % name\n",
    "\n",
    "facts = (\"\"\"---------------------\n",
    "Planet Name: {planet}\n",
    "Gravity on {moon}: {g} m/s2\"\"\".format(moon=name, planet = planet, g = (gravity*1000)))\n",
    "\n",
    "plantilla = f\"\"\" {titulo.title()}\n",
    "{facts}\n",
    "\"\"\"\n",
    "print(plantilla)\n"
   ]
  },
  {
   "cell_type": "code",
   "execution_count": 56,
   "metadata": {},
   "outputs": [
    {
     "name": "stdout",
     "output_type": "stream",
     "text": [
      " Gravity Facts about Ganímedes\n",
      "----------------------------------------------\n",
      "Planet Name: Marte\n",
      "Gravity on Ganímedes: 1.4300000000000002 m/s2\n"
     ]
    }
   ],
   "source": [
    "#Datos muestra\n",
    "planet= \"Marte\"\n",
    "gravity = 0.00143\n",
    "name = \"Ganímedes\"\n",
    "\n",
    "nueva_plantilla = \"\"\" Gravity Facts about {moon}\n",
    "----------------------------------------------\n",
    "Planet Name: {planet}\n",
    "Gravity on {moon}: {g} m/s2\"\"\"\n",
    "\n",
    "print(nueva_plantilla.format(moon=name, planet = planet, g = (gravity*1000)))"
   ]
  }
 ],
 "metadata": {
  "interpreter": {
   "hash": "09bead0eacd8516c4016931df92530ac66403e9c5e035ddce9604c7786039c4e"
  },
  "kernelspec": {
   "display_name": "Python 3.8.8 ('base')",
   "language": "python",
   "name": "python3"
  },
  "language_info": {
   "codemirror_mode": {
    "name": "ipython",
    "version": 3
   },
   "file_extension": ".py",
   "mimetype": "text/x-python",
   "name": "python",
   "nbconvert_exporter": "python",
   "pygments_lexer": "ipython3",
   "version": "3.8.8"
  },
  "orig_nbformat": 4
 },
 "nbformat": 4,
 "nbformat_minor": 2
}
