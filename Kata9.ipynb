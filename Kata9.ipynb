{
 "cells": [
  {
   "cell_type": "markdown",
   "metadata": {},
   "source": [
    "# **Kata 9**"
   ]
  },
  {
   "cell_type": "code",
   "execution_count": 7,
   "metadata": {},
   "outputs": [
    {
     "name": "stdout",
     "output_type": "stream",
     "text": [
      "El promedio de combustible en los tanques es: 12.333333333333334\n"
     ]
    }
   ],
   "source": [
    "#Ejercicio 1\n",
    "\n",
    "def info_gas (tank1,tank2,tank3):\n",
    "    average = (tank1+tank2+tank3)/3\n",
    "    print (\"El promedio de combustible en los tanques es:\", average)\n",
    "\n",
    "info_gas(12,13,12)"
   ]
  },
  {
   "cell_type": "code",
   "execution_count": 16,
   "metadata": {},
   "outputs": [
    {
     "data": {
      "text/plain": [
       "2.0"
      ]
     },
     "execution_count": 16,
     "metadata": {},
     "output_type": "execute_result"
    }
   ],
   "source": [
    "def average(tanks):\n",
    "    aver = sum(tanks)/len(tanks)\n",
    "    return aver\n",
    "\n",
    "average([1,2,3])"
   ]
  },
  {
   "cell_type": "code",
   "execution_count": 19,
   "metadata": {},
   "outputs": [
    {
     "name": "stdout",
     "output_type": "stream",
     "text": [
      "El promedio de combustible en los tanques es: 12.333333333333334\n"
     ]
    }
   ],
   "source": [
    "\n",
    "def info_gas (tank1,tank2,tank3):\n",
    "    aver = average([tank1,tank2,tank3])\n",
    "    print (\"El promedio de combustible en los tanques es:\", aver)\n",
    "\n",
    "info_gas(12,13,12)"
   ]
  },
  {
   "cell_type": "code",
   "execution_count": 36,
   "metadata": {},
   "outputs": [
    {
     "name": "stdout",
     "output_type": "stream",
     "text": [
      " Informe de misión\n",
      "    Tripulación con destino a: Marte\n",
      "    Tiempo estimado de viaje: 75 minutos\n",
      "    Combustible en tanques: 23 litros\n",
      "    \n"
     ]
    }
   ],
   "source": [
    "# Ejercicio 2\n",
    "def report_rocket(pre_launch_time,flight_time,destination,ext_tank,int_tank):\n",
    "    return f\"\"\" Informe de misión\n",
    "    Tripulación con destino a: {destination}\n",
    "    Tiempo estimado de viaje: {pre_launch_time + flight_time} minutos\n",
    "    Combustible en tanques: {ext_tank+int_tank} litros\n",
    "    \"\"\" \n",
    "\n",
    "print(report_rocket(45,30,'Marte',12,11))"
   ]
  },
  {
   "cell_type": "code",
   "execution_count": 35,
   "metadata": {},
   "outputs": [
    {
     "name": "stdout",
     "output_type": "stream",
     "text": [
      " Informe de misión\n",
      "    Tripulación con destino a: Saturno\n",
      "    Tiempo estimado de viaje: 1154 minutos\n",
      "    Combustible en tanques: 1357 litros\n",
      "    \n"
     ]
    }
   ],
   "source": [
    "def report_rocket(destination,*minutes,**fuel_reservoirs):\n",
    "    return f\"\"\" Informe de misión\n",
    "    Tripulación con destino a: {destination}\n",
    "    Tiempo estimado de viaje: {sum(minutes)} minutos\n",
    "    Combustible en tanques: {sum(fuel_reservoirs.values())} litros\n",
    "    \"\"\"\n",
    "\n",
    "print(report_rocket('Saturno',12,1129,13,externo=123,interno=1234))\n",
    "    "
   ]
  },
  {
   "cell_type": "code",
   "execution_count": 45,
   "metadata": {},
   "outputs": [
    {
     "name": "stdout",
     "output_type": "stream",
     "text": [
      " Informe de misión\n",
      "    Tripulación con destino a: Saturno\n",
      "    Tiempo estimado de viaje: 1154 minutos\n",
      "    Combustible en tanques: 137 litros\n",
      "    Tanque externo : 13 litros \n",
      "Tanque interno : 124 litros \n",
      "\n"
     ]
    }
   ],
   "source": [
    "def report_rocket(destination,*minutes,**fuel_reservoirs):\n",
    "    data = f\"\"\" Informe de misión\n",
    "    Tripulación con destino a: {destination}\n",
    "    Tiempo estimado de viaje: {sum(minutes)} minutos\n",
    "    Combustible en tanques: {sum(fuel_reservoirs.values())} litros\n",
    "    \"\"\"\n",
    "\n",
    "    for tanque, litros in fuel_reservoirs.items():\n",
    "        data += f\"Tanque {tanque} : {litros} litros \\n\"\n",
    "    return data\n",
    "\n",
    "print(report_rocket('Saturno',12,1129,13,externo=13,interno=124))"
   ]
  }
 ],
 "metadata": {
  "interpreter": {
   "hash": "aee8b7b246df8f9039afb4144a1f6fd8d2ca17a180786b69acc140d282b71a49"
  },
  "kernelspec": {
   "display_name": "Python 3.10.2 64-bit",
   "language": "python",
   "name": "python3"
  },
  "language_info": {
   "codemirror_mode": {
    "name": "ipython",
    "version": 3
   },
   "file_extension": ".py",
   "mimetype": "text/x-python",
   "name": "python",
   "nbconvert_exporter": "python",
   "pygments_lexer": "ipython3",
   "version": "3.10.2"
  },
  "orig_nbformat": 4
 },
 "nbformat": 4,
 "nbformat_minor": 2
}
